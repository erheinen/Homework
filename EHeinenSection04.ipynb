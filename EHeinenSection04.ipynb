{
 "cells": [
  {
   "cell_type": "markdown",
   "metadata": {},
   "source": [
    "**Use markdown formatting for the following questions (e.g., bold lettering, bullet points, different font sizes, etc.)**:\n",
    "\n",
    "1. What does one need to do to use a module? *Import it.*\n",
    "1. Name a Module (not the DateTime Nodule) we looked at and write a line or 2 of code as an example using this module. *Math Module*\n",
    "    *Example: math.ceil(78.2) will output \"79\"*\n",
    "1. What is a benefit of using Exception handling? *When an error is raised in the try block, the except block will be executed. Without the try block, the program will crash. With this code device we can keep going past many errors.*\n",
    "1. what are the 4 components used for Python Exception Handling? *try, except, else, finally*\n",
    "1. NumPy arrays are like what Python data type? *List*\n",
    "1. What is one of the main benefits of using NumPy arrays. *It takes up less memory than a Python list.*\n",
    "1. What is one of the main requirements about the 'dtype' of NumPy arrays? *By default, NumPy arrays are comprised of floats, but you can use dtype to change the variable type to just about anything.*\n",
    "1. Of the 10 uses of NumPy, name 2. *Broadcasting, Linear Algebra*\n",
    "1. Name one of the other libraries we'll use with NumPy? *Pandas*\n",
    "1. What is the shape of NumPy arrays? *It is described by the number of dimensions and items it has.*\n",
    "1. What is a Tensor? *An array with 3+ dimensions*\n",
    "1. Name a reason why it's better using  NumPy for Data Analysis than using a Python List? *NumPy supports many more numerical data types than Python does natively.*\n",
    "1. When creating an \"empty\" array, where do the elements come from? *It's random and comes from the computer's memory.*"
   ]
  },
  {
   "cell_type": "code",
   "execution_count": 4,
   "metadata": {},
   "outputs": [
    {
     "name": "stdout",
     "output_type": "stream",
     "text": [
      "Renting a car is more affordable.\n"
     ]
    }
   ],
   "source": [
    "#Flow Control Methods:\n",
    "\n",
    "# 1.Create an if statement: if 'age' is greater than or equal to 25, print \"Renting a car is more affordable\", however if 'age' is less than 25, print \"Renting a car is very expensive.\"\n",
    "age = 25\n",
    "\n",
    "if age >= 25:\n",
    "    print(\"Renting a car is more affordable.\")\n",
    "else: print(\"Renting a car is very expensive.\")"
   ]
  },
  {
   "cell_type": "code",
   "execution_count": 5,
   "metadata": {},
   "outputs": [
    {
     "name": "stdout",
     "output_type": "stream",
     "text": [
      "Renting a car is more affordable.\n"
     ]
    }
   ],
   "source": [
    "#2. Create and chain an if-else  statement: if 'age' is greater than or equal to 25, print \"Renting a car is more affordable.\" If 'age' is less than 25 but greater than or equal to 18, print \"Renting a car is very expensive.\" Finally, if age is less than 18, print \"You cannot legally rent a car.\"\n",
    "age = 25\n",
    "\n",
    "if age >= 25:\n",
    "    print(\"Renting a car is more affordable.\")\n",
    "elif 18 <= age < 25:\n",
    "    print(\"Renting a car is very expensive.\")\n",
    "else:\n",
    "    print (\"You cannot legally rent a car.\")"
   ]
  },
  {
   "cell_type": "code",
   "execution_count": 10,
   "metadata": {},
   "outputs": [
    {
     "name": "stdout",
     "output_type": "stream",
     "text": [
      "43\n",
      "['e', 'u', 'i', 'o', 'o', 'u', 'o', 'e', 'e', 'a', 'y', 'o']\n"
     ]
    }
   ],
   "source": [
    "#3. Loop over the following string to (1) count all the characters in the string and (2) print out all the vowels -- \"The quick brown fox jumps over the lazy dog\"\n",
    "phrase = \"The quick brown fox jumps over the lazy dog\"\n",
    "\n",
    "charinphrase = 0\n",
    "for char in phrase:\n",
    "    charinphrase += 1\n",
    "print(charinphrase)\n",
    "\n",
    "vowelsinphrase = []\n",
    "for char in phrase:\n",
    "    if char == \"a\": vowelsinphrase.append(\"a\")\n",
    "    elif char == \"e\": vowelsinphrase.append(\"e\")\n",
    "    elif char == \"i\": vowelsinphrase.append(\"i\")\n",
    "    elif char == \"o\": vowelsinphrase.append(\"o\")\n",
    "    elif char == \"u\": vowelsinphrase.append(\"u\")\n",
    "    elif char == \"y\": vowelsinphrase.append(\"y\")\n",
    "print(vowelsinphrase)\n"
   ]
  },
  {
   "cell_type": "code",
   "execution_count": 11,
   "metadata": {},
   "outputs": [
    {
     "name": "stdout",
     "output_type": "stream",
     "text": [
      "gunmetal blue trousers\n",
      "cerise trousers\n",
      "burnt sienna trousers\n",
      "fuchsia trousers\n",
      "Dark Sapphire trousers\n",
      "maple trousers\n",
      "auburn trousers\n",
      "aqua trousers\n",
      "gunmetal blue blouse\n",
      "cerise blouse\n",
      "burnt sienna blouse\n",
      "fuchsia blouse\n",
      "Dark Sapphire blouse\n",
      "maple blouse\n",
      "auburn blouse\n",
      "aqua blouse\n",
      "gunmetal blue bandana\n",
      "cerise bandana\n",
      "burnt sienna bandana\n",
      "fuchsia bandana\n",
      "Dark Sapphire bandana\n",
      "maple bandana\n",
      "auburn bandana\n",
      "aqua bandana\n",
      "gunmetal blue cumber band\n",
      "cerise cumber band\n",
      "burnt sienna cumber band\n",
      "fuchsia cumber band\n",
      "Dark Sapphire cumber band\n",
      "maple cumber band\n",
      "auburn cumber band\n",
      "aqua cumber band\n",
      "gunmetal blue blazer\n",
      "cerise blazer\n",
      "burnt sienna blazer\n",
      "fuchsia blazer\n",
      "Dark Sapphire blazer\n",
      "maple blazer\n",
      "auburn blazer\n",
      "aqua blazer\n",
      "gunmetal blue vest\n",
      "cerise vest\n",
      "burnt sienna vest\n",
      "fuchsia vest\n",
      "Dark Sapphire vest\n",
      "maple vest\n",
      "auburn vest\n",
      "aqua vest\n",
      "gunmetal blue french beret\n",
      "cerise french beret\n",
      "burnt sienna french beret\n",
      "fuchsia french beret\n",
      "Dark Sapphire french beret\n",
      "maple french beret\n",
      "auburn french beret\n",
      "aqua french beret\n",
      "gunmetal blue scarf\n",
      "cerise scarf\n",
      "burnt sienna scarf\n",
      "fuchsia scarf\n",
      "Dark Sapphire scarf\n",
      "maple scarf\n",
      "auburn scarf\n",
      "aqua scarf\n",
      "gunmetal blue stole\n",
      "cerise stole\n",
      "burnt sienna stole\n",
      "fuchsia stole\n",
      "Dark Sapphire stole\n",
      "maple stole\n",
      "auburn stole\n",
      "aqua stole\n"
     ]
    }
   ],
   "source": [
    "#4. Write a nested loop that prints out every piece of clothing from the `couture` list, in every fashionable color from the `panettone` set: couture = [\"trousers\", \"blouse\", \"bandana\", \"cumber band\", \"blazer\", \"vest\", \"french beret\", \"scarf\", \"stole\"] and panettone = {\"cerise\", \"fuchsia\", \"aqua\", \"maple\", \"auburn\", \"burnt sienna\", \"gunmetal blue\", \"Dark Sapphire\"}\n",
    "couture = [\"trousers\", \"blouse\", \"bandana\", \"cumber band\", \"blazer\", \"vest\", \"french beret\", \"scarf\", \"stole\"]\n",
    "panettone = {\"cerise\", \"fuchsia\", \"aqua\", \"maple\", \"auburn\", \"burnt sienna\", \"gunmetal blue\", \"Dark Sapphire\"}\n",
    "\n",
    "for x in couture:\n",
    "\tfor y in panettone:\n",
    "\t\tprint(y,x)  "
   ]
  },
  {
   "cell_type": "code",
   "execution_count": 12,
   "metadata": {},
   "outputs": [
    {
     "name": "stdout",
     "output_type": "stream",
     "text": [
      "5050\n"
     ]
    }
   ],
   "source": [
    "#5. Use range as a loop to calculate the sum of all the numbers from 1 to 100\n",
    "sum = 0\n",
    "\n",
    "for i in range(101):\n",
    "    sum += i\n",
    "print(sum)"
   ]
  },
  {
   "cell_type": "code",
   "execution_count": 14,
   "metadata": {},
   "outputs": [
    {
     "name": "stdout",
     "output_type": "stream",
     "text": [
      "banana\n"
     ]
    }
   ],
   "source": [
    "#6. Print the second item in this fruits list. [\"apple\", \"banana\", \"cherry\"]\n",
    "fruits = [\"apple\", \"banana\", \"cherry\"]\n",
    "print(fruits[1])"
   ]
  },
  {
   "cell_type": "code",
   "execution_count": 15,
   "metadata": {},
   "outputs": [
    {
     "name": "stdout",
     "output_type": "stream",
     "text": [
      "Apple replaced ...  ['kiwi', 'banana', 'cherry']\n"
     ]
    }
   ],
   "source": [
    "#7. Change the value from \"apple\" to \"kiwi\", in the fruits list.  [\"apple\", \"banana\", \"cherry\"]\n",
    "fruits = [\"apple\", \"banana\", \"cherry\"]\n",
    "\n",
    "fruits[0] = \"kiwi\"\n",
    "print(\"Apple replaced ... \", fruits)"
   ]
  },
  {
   "cell_type": "code",
   "execution_count": 16,
   "metadata": {},
   "outputs": [
    {
     "name": "stdout",
     "output_type": "stream",
     "text": [
      "['apple', 'banana', 'cherry', 'orange']\n"
     ]
    }
   ],
   "source": [
    "#8. Use the append method to add \"orange\" to the fruits list. [\"apple\", \"banana\", \"cherry\"]\n",
    "fruits = [\"apple\", \"banana\", \"cherry\"]\n",
    "\n",
    "fruits.append(\"orange\")\n",
    "print(fruits)"
   ]
  },
  {
   "cell_type": "code",
   "execution_count": 17,
   "metadata": {},
   "outputs": [
    {
     "name": "stdout",
     "output_type": "stream",
     "text": [
      "['apple', 'lemon', 'banana', 'cherry']\n"
     ]
    }
   ],
   "source": [
    "#9. Use the insert method to add \"lemon\" as the second item in the fruits list. [\"apple\", \"banana\", \"cherry\"]\n",
    "fruits = [\"apple\", \"banana\", \"cherry\"]\n",
    "\n",
    "fruits.insert(1, 'lemon')\n",
    "print(fruits)"
   ]
  },
  {
   "cell_type": "code",
   "execution_count": 18,
   "metadata": {},
   "outputs": [
    {
     "name": "stdout",
     "output_type": "stream",
     "text": [
      "['apple', 'cherry']\n"
     ]
    }
   ],
   "source": [
    "#10. Use the remove method to remove \"banana\" from the fruits list. [\"apple\", \"banana\", \"cherry\"]\n",
    "fruits = [\"apple\", \"banana\", \"cherry\"]\n",
    "\n",
    "fruits.remove(\"banana\")\n",
    "print(fruits)"
   ]
  },
  {
   "cell_type": "code",
   "execution_count": 20,
   "metadata": {},
   "outputs": [
    {
     "name": "stdout",
     "output_type": "stream",
     "text": [
      "melon\n",
      "kiwi\n"
     ]
    }
   ],
   "source": [
    "#11. Use negative indexing to print the 3rd and 2nd to last items in the list. [\"apple\", \"banana\", \"cherry\", \"orange\", \"kiwi\", \"melon\", \"mango\"]\n",
    "fruits = [\"apple\", \"banana\", \"cherry\", \"orange\", \"kiwi\", \"melon\", \"mango\"]\n",
    "\n",
    "print(fruits[-2])\n",
    "print(fruits[-3])"
   ]
  },
  {
   "cell_type": "code",
   "execution_count": 21,
   "metadata": {},
   "outputs": [
    {
     "name": "stdout",
     "output_type": "stream",
     "text": [
      "['cherry', 'orange', 'kiwi']\n"
     ]
    }
   ],
   "source": [
    "#12. Use a range of indexes to print the third, fourth, and fifth item in the list. [\"apple\", \"banana\", \"cherry\", \"orange\", \"kiwi\", \"melon\", \"mango\"]\n",
    "fruits = [\"apple\", \"banana\", \"cherry\", \"orange\", \"kiwi\", \"melon\", \"mango\"]\n",
    "\n",
    "print(fruits[2:5])"
   ]
  },
  {
   "cell_type": "code",
   "execution_count": 22,
   "metadata": {},
   "outputs": [
    {
     "name": "stdout",
     "output_type": "stream",
     "text": [
      "7\n"
     ]
    }
   ],
   "source": [
    "#13. Use the correct syntax to print the number of items in the list. [\"apple\", \"banana\", \"cherry\", \"orange\", \"kiwi\", \"melon\", \"mango\"]\n",
    "fruits = [\"apple\", \"banana\", \"cherry\", \"orange\", \"kiwi\", \"melon\", \"mango\"]\n",
    "\n",
    "print(len(fruits))"
   ]
  },
  {
   "cell_type": "code",
   "execution_count": 23,
   "metadata": {},
   "outputs": [
    {
     "name": "stdout",
     "output_type": "stream",
     "text": [
      "['orange', 'melon', 'mango', 'kiwi', 'cherry', 'banana', 'apple']\n"
     ]
    }
   ],
   "source": [
    "#14. Use the correct syntax to sort this list in reverse order [\"apple\", \"banana\", \"cherry\", \"orange\", \"kiwi\", \"melon\", \"mango\"]\n",
    "fruits = [\"apple\", \"banana\", \"cherry\", \"orange\", \"kiwi\", \"melon\", \"mango\"]\n",
    "\n",
    "fruits.sort(reverse=True)\n",
    "print(fruits)"
   ]
  },
  {
   "cell_type": "code",
   "execution_count": 27,
   "metadata": {},
   "outputs": [
    {
     "name": "stdout",
     "output_type": "stream",
     "text": [
      "May\n"
     ]
    }
   ],
   "source": [
    "#15. Use the DateTime module to get Current Date and Time, and save it to a variable. Then extract just the Full month name form that variable.\n",
    "import datetime as dt\n",
    "\n",
    "a = dt.datetime.now()\n",
    "print(a.strftime(\"%B\"))"
   ]
  },
  {
   "cell_type": "code",
   "execution_count": 33,
   "metadata": {},
   "outputs": [
    {
     "name": "stdout",
     "output_type": "stream",
     "text": [
      "Hi Ellie! Happy Wednesday!\n",
      "Hi Ellie! Happy Sunday!\n"
     ]
    }
   ],
   "source": [
    "#16. Write a simple function that takes 2 parameters -- a  first name and a day name.\n",
    "    #- Set a default value for the day name of Sunday.\n",
    "   # - Have the function print out a greeting -- using the parameters -- that says something like \"Hi first-name! Happy day-name!\". Remember to use the variables in the greeting to replace first-name and day-name.  \n",
    "    #- Invoke this function with 2 variables.\n",
    "    #- Invoke this function with 1 variable only.\n",
    "\n",
    "def greeting(firstname, dayname = \"Sunday\"):\n",
    "    print(\"Hi \" + firstname + \"! Happy \" + dayname + \"!\")\n",
    "\n",
    "greeting(\"Ellie\", \"Wednesday\")\n",
    "\n",
    "greeting(\"Ellie\")"
   ]
  },
  {
   "cell_type": "code",
   "execution_count": 34,
   "metadata": {},
   "outputs": [
    {
     "name": "stdout",
     "output_type": "stream",
     "text": [
      "You have not selected an appropriate index.\n",
      "Nice job! We handled an exception error!\n"
     ]
    }
   ],
   "source": [
    "#17. Write a block of code to handle one of the most common Python exception errors. Select one of the common errors from the curriculum section on Python Exception handling. Have your code example uses the `try`,`except`, `else`, and `finally` components.\n",
    "fruits = [\"apple\", \"banana\", \"cherry\", \"orange\", \"kiwi\", \"melon\", \"mango\"]\n",
    "\n",
    "try: \n",
    "    print(fruits[100])\n",
    "except:\n",
    "    print(\"You have not selected an appropriate index.\")\n",
    "else:\n",
    "    print(\"It's a miracle! Nothing went wrong!\")\n",
    "finally:\n",
    "    print(\"Nice job! We handled an exception error!\")\n",
    "\n"
   ]
  }
 ],
 "metadata": {
  "kernelspec": {
   "display_name": "Python 3",
   "language": "python",
   "name": "python3"
  },
  "language_info": {
   "codemirror_mode": {
    "name": "ipython",
    "version": 3
   },
   "file_extension": ".py",
   "mimetype": "text/x-python",
   "name": "python",
   "nbconvert_exporter": "python",
   "pygments_lexer": "ipython3",
   "version": "3.12.3"
  }
 },
 "nbformat": 4,
 "nbformat_minor": 2
}
