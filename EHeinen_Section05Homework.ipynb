{
 "cells": [
  {
   "cell_type": "markdown",
   "metadata": {},
   "source": [
    "Use markdown formatting for the following questions (e.g., bold lettering, bullet points, different font sizes, etc.): \n",
    "1. What does Pandas stand for? *Either 'Panel Data' or 'Python Data Analysis'*\n",
    "2. What are the 2 collections used in Pandas? *Series and Dataframes*\n",
    "3. Name 4 things Pandas can do for us. *Load, model, prepare, manipulate, and model data*\n",
    "4. To permanently sort a DataFrame, which keyword should one use with the `df.sort()` method? *inplace = true*\n",
    "5. What is a CSV? *Comma Separated Value (CSV) files store data in an extremely minimalistic way using only commas and values to store data in columns and rows.*\n",
    "6. When cleaning data what values do we not like in our data? *NULLs*"
   ]
  },
  {
   "cell_type": "code",
   "execution_count": 3,
   "metadata": {},
   "outputs": [
    {
     "name": "stdout",
     "output_type": "stream",
     "text": [
      "The array1 array ...\n",
      " [[[ 0  1]\n",
      "  [ 2  3]\n",
      "  [ 4  5]]\n",
      "\n",
      " [[ 6  7]\n",
      "  [ 8  9]\n",
      "  [10 11]]]\n"
     ]
    }
   ],
   "source": [
    "# 7. Import NumPy, use one of the NumPy methods and create an array with a shape of (2, 3, 2). You can use the reshape method -- `.reshape()`\n",
    "import numpy as np\n",
    "array1 = np.arange(12).reshape(((2,3,2)))\n",
    "print(\"The array1 array ...\\n\", array1)"
   ]
  },
  {
   "cell_type": "code",
   "execution_count": 4,
   "metadata": {},
   "outputs": [
    {
     "name": "stdout",
     "output_type": "stream",
     "text": [
      "Array2 ... [ 0.  4.  8. 12. 16. 20.]\n"
     ]
    }
   ],
   "source": [
    "# 8. Use NumPy `.linspace()` to create an array with 6 linearly spaced values between 0 and 20\n",
    "array2 = np.linspace(0, 20, num=6)\n",
    "print(\"Array2 ...\", array2)"
   ]
  },
  {
   "cell_type": "code",
   "execution_count": 7,
   "metadata": {},
   "outputs": [
    {
     "name": "stdout",
     "output_type": "stream",
     "text": [
      "Array2 ...\n",
      " [ 0.  4.  8. 12. 16. 20.]\n",
      "\n",
      "Array3, a deepcopy ...\n",
      " [ 0.  4.  8. 12. 16. 20.]\n"
     ]
    }
   ],
   "source": [
    "# 9. Make a Deep Copy of the above array\n",
    "import copy\n",
    "array2 = np.linspace(0, 20, num=6)\n",
    "array3= copy.deepcopy(array2)\n",
    "\n",
    "print(\"Array2 ...\\n\", array2)\n",
    "print(\"\\nArray3, a deepcopy ...\\n\", array3)"
   ]
  },
  {
   "cell_type": "code",
   "execution_count": 15,
   "metadata": {},
   "outputs": [
    {
     "name": "stdout",
     "output_type": "stream",
     "text": [
      "[[25 16]\n",
      " [11  2]\n",
      " [13  4]\n",
      " [ 7 81]\n",
      " [ 5  6]\n",
      " [11 12]]\n"
     ]
    }
   ],
   "source": [
    "# 10. Concatenate these 3 arrays into a new array named 'newArray'...\n",
    "array4 = ([[25, 16]])\n",
    "array5 = ([[11, 2], [13, 4]])\n",
    "array6 = ([[7, 81], [5, 6], [11, 12]])\n",
    "\n",
    "newArray = np.concatenate((array4, array5, array6), axis=0)\n",
    "print(newArray)"
   ]
  },
  {
   "cell_type": "code",
   "execution_count": 20,
   "metadata": {},
   "outputs": [
    {
     "name": "stdout",
     "output_type": "stream",
     "text": [
      "[[16 25]\n",
      " [ 2 11]\n",
      " [ 4 13]\n",
      " [ 7 81]\n",
      " [ 5  6]\n",
      " [11 12]]\n"
     ]
    }
   ],
   "source": [
    "# 11. Sort 'newArray' in order into 'sortedArray'\n",
    "sortedArray = np.sort(newArray)\n",
    "print(sortedArray)"
   ]
  },
  {
   "cell_type": "code",
   "execution_count": 27,
   "metadata": {},
   "outputs": [
    {
     "name": "stdout",
     "output_type": "stream",
     "text": [
      "I'm not seeing an array called 'reshapedArray' anywhere.\n"
     ]
    }
   ],
   "source": [
    "# 12. Unpack the array tuples from the above 'reshapedArray'  into 4 well named variables. Print the 4 variables.\n",
    "print(\"I'm not seeing an array called 'reshapedArray' anywhere.\")"
   ]
  },
  {
   "cell_type": "code",
   "execution_count": 29,
   "metadata": {},
   "outputs": [
    {
     "name": "stdout",
     "output_type": "stream",
     "text": [
      "[ 0  1  2  3  4  5  6  7 10 11 12 13 14 15 16 17 20 21 22 23 24 25 26 27]\n"
     ]
    }
   ],
   "source": [
    "# 13. Combine and sort the following arrays into one called 'comboArray'\n",
    "one = ([10, 11, 12, 13, 14, 15, 16, 17])\n",
    "two = ([20, 21, 22, 23, 24, 25, 26, 27])\n",
    "three = ([ 0, 1, 2, 3, 4, 5, 6, 7])\n",
    "\n",
    "comboArray = np.sort(np.concatenate((one, two, three), axis=0))\n",
    "print(comboArray)"
   ]
  },
  {
   "cell_type": "code",
   "execution_count": 80,
   "metadata": {},
   "outputs": [
    {
     "name": "stdout",
     "output_type": "stream",
     "text": [
      "1\n",
      "[ 2  3  4  5  6  7 10 11 12 13 14 15 16 17 20 21 22 23 24 25 26 27]\n",
      "[ 3  4  5  6  7 10 11 12 13 14 15]\n",
      "[22 23 24 25 26 27]\n",
      "[ 0  1  2  3  4  5  6  7 10 11 12 13 14 15]\n",
      "[20 22 24 26]\n",
      "I'm not totally sure what this is asking, but here is my best guess:  [ 3 10 15 22 27]\n"
     ]
    }
   ],
   "source": [
    "# 14. Take 'comboArray' and perform the following slicing activities:\n",
    "# print sec1 - the 2nd element\n",
    "print(comboArray[1])\n",
    "# print sec2 - all elements from the 3rd element to the last\n",
    "print(comboArray[2:])\n",
    "# print sec3 - all elements from the 4th to the 14th elements\n",
    "print(comboArray[3:14])\n",
    "# print sec4 - the last 6 elements\n",
    "print(comboArray[-6:])\n",
    "# print sec5 - all element from #0 up to and including #15, using the negative number method, i.e. taking a section from the end.\n",
    "print(comboArray[-28:-10])\n",
    "# print sec6 - from #20 every even element to the end\n",
    "print(comboArray[16::2])\n",
    "# print sec7 - from the last element moving forward, every 5th element.\n",
    "print(\"I'm not totally sure what this is asking, but here is my best guess: \", comboArray[3::5])"
   ]
  },
  {
   "cell_type": "code",
   "execution_count": 86,
   "metadata": {},
   "outputs": [
    {
     "name": "stdout",
     "output_type": "stream",
     "text": [
      "  Ingredients  Quantity   Unit\n",
      "0       Flour         4   cups\n",
      "1        Milk         1    cup\n",
      "2        Eggs         2  large\n",
      "3        Spam         1    can\n"
     ]
    }
   ],
   "source": [
    "# 15. Using `Series`, create a `DataFrame` that looks like this:\n",
    "\n",
    "#    | Ingredients | Quantity | Unit |\n",
    "#    |----|----|----|\n",
    "#    | Flour | 4 | cups |\n",
    "#    | Milk | 1 | cup |\n",
    "#    | Eggs | 2 | large |\n",
    "#    | Spam | 1 | can |\n",
    "\n",
    "#    Name: Dinner, dtype: object\n",
    "\n",
    "import pandas as pd\n",
    "\n",
    "Ingredients = pd.Series([\"Flour\",\"Milk\",\"Eggs\",\"Spam\"], name='Ingredients')\n",
    "Quantity = pd.Series([4,1,2,1],name='Quantity')\n",
    "Unit = pd.Series([\"cups\",\"cup\",\"large\",\"can\"],name='Unit')\n",
    "\n",
    "Dinner = pd.concat([Ingredients, Quantity, Unit], axis=1)\n",
    "print(Dinner)"
   ]
  },
  {
   "cell_type": "code",
   "execution_count": null,
   "metadata": {},
   "outputs": [],
   "source": [
    "# 16. Take this data and create a DataFrame named studentData\n",
    "# {'Name': ['Jai', 'janusha', 'Gaurav', 'Anuj'],\n",
    "# 'Height': [5.1, 6.2, 5.1, 5.2],\n",
    "# 'Qualification': ['Msc', 'MA', 'Msc', 'Msc'],\n",
    "# 'address': ['Delhi', 'Doha', 'Chennai', 'Dakhar'],\n",
    "# 'Age': [21, 23, 24, 21],\n",
    "# 'Pets': ['Dog', 'Bunny', 'Chinchilla', 'Parrot'],\n",
    "# 'sport': ['Darts', 'Basketball', 'PaddleBoarding', 'Cricket']\n",
    "\n",
    "Ingredients = pd.Series([\"Flour\",\"Milk\",\"Eggs\",\"Spam\"], name='Ingredients')\n",
    "Quantity = pd.Series([4,1,2,1],name='Quantity')\n",
    "Unit = pd.Series([\"cups\",\"cup\",\"large\",\"can\"],name='Unit')"
   ]
  }
 ],
 "metadata": {
  "kernelspec": {
   "display_name": "Python 3",
   "language": "python",
   "name": "python3"
  },
  "language_info": {
   "codemirror_mode": {
    "name": "ipython",
    "version": 3
   },
   "file_extension": ".py",
   "mimetype": "text/x-python",
   "name": "python",
   "nbconvert_exporter": "python",
   "pygments_lexer": "ipython3",
   "version": "3.12.3"
  }
 },
 "nbformat": 4,
 "nbformat_minor": 2
}
